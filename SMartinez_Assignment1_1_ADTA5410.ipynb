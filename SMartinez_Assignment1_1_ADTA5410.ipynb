{
  "nbformat": 4,
  "nbformat_minor": 0,
  "metadata": {
    "colab": {
      "provenance": [],
      "authorship_tag": "ABX9TyPfMSK9z7d5uY5+ctwb79IW",
      "include_colab_link": true
    },
    "kernelspec": {
      "name": "python3",
      "display_name": "Python 3"
    },
    "language_info": {
      "name": "python"
    }
  },
  "cells": [
    {
      "cell_type": "markdown",
      "metadata": {
        "id": "view-in-github",
        "colab_type": "text"
      },
      "source": [
        "<a href=\"https://colab.research.google.com/github/szmtz/ds/blob/main/SMartinez_Assignment1_1_ADTA5410.ipynb\" target=\"_parent\"><img src=\"https://colab.research.google.com/assets/colab-badge.svg\" alt=\"Open In Colab\"/></a>"
      ]
    },
    {
      "cell_type": "markdown",
      "source": [
        "## Saúl Martínez\n",
        "### ADTA 5410 Applications and Deployment of Advanced Analytics\n",
        "### Purpose:\n",
        "### Process:\n",
        "### Honor Code:"
      ],
      "metadata": {
        "id": "C1iCtyE75kZ8"
      }
    },
    {
      "cell_type": "code",
      "execution_count": null,
      "metadata": {
        "id": "5xQKpV345gqq"
      },
      "outputs": [],
      "source": []
    }
  ]
}