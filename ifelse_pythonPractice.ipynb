{
  "nbformat": 4,
  "nbformat_minor": 0,
  "metadata": {
    "colab": {
      "provenance": [],
      "authorship_tag": "ABX9TyNNyaXcpjgALkCODr411HCq",
      "include_colab_link": true
    },
    "kernelspec": {
      "name": "python3",
      "display_name": "Python 3"
    },
    "language_info": {
      "name": "python"
    }
  },
  "cells": [
    {
      "cell_type": "markdown",
      "metadata": {
        "id": "view-in-github",
        "colab_type": "text"
      },
      "source": [
        "<a href=\"https://colab.research.google.com/github/szmtz/ds/blob/main/ifelse_pythonPractice.ipynb\" target=\"_parent\"><img src=\"https://colab.research.google.com/assets/colab-badge.svg\" alt=\"Open In Colab\"/></a>"
      ]
    },
    {
      "cell_type": "markdown",
      "source": [
        "If-Else Practice : Checking a Number\n",
        "Task:\n",
        "Write a program that:\n",
        "1. Takes a number from the user\n",
        "2. Checks if the number is positive, negative, or zero\n",
        "3. Prints a message based on the condition"
      ],
      "metadata": {
        "id": "dNZAZ1ezKrI_"
      }
    },
    {
      "cell_type": "code",
      "execution_count": 1,
      "metadata": {
        "colab": {
          "base_uri": "https://localhost:8080/"
        },
        "id": "brUFYlCyKlSZ",
        "outputId": "f738e8cf-e0f1-49ac-fcca-9d8624d47b37"
      },
      "outputs": [
        {
          "output_type": "stream",
          "name": "stdout",
          "text": [
            "Enter a number: 3\n",
            "The number is positive.\n"
          ]
        }
      ],
      "source": [
        "# 1 Get a number from the user. Use 'input()' function - returns a string, so it needs to be converted to an integer using the 'int()\n",
        "number = int(input(\"Enter a number: \"))\n",
        "\n",
        "# 2 Check the number using an if-else statement and print the message\n",
        "if number > 0:\n",
        "    print(\"The number is positive.\")\n",
        "elif number < 0:\n",
        "    print(\"The number is negative.\")\n",
        "else:\n",
        "    print(\"The number is zero.\")"
      ]
    }
  ]
}